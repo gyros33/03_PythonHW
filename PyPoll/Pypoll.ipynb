{
 "cells": [
  {
   "cell_type": "code",
   "execution_count": 1,
   "metadata": {},
   "outputs": [],
   "source": [
    "import os\n",
    "import csv"
   ]
  },
  {
   "cell_type": "code",
   "execution_count": 2,
   "metadata": {},
   "outputs": [],
   "source": [
    "poll_csv = os.path.join(\"Resources\", \"election_data.csv\")\n",
    "total_votes = 0\n",
    "candidate_votes = {}"
   ]
  },
  {
   "cell_type": "code",
   "execution_count": 3,
   "metadata": {},
   "outputs": [],
   "source": [
    "with open(poll_csv, newline=\"\") as csvfile:\n",
    "    csvreader = csv.reader(csvfile, delimiter=\",\")\n",
    "    \n",
    "    # Read the header row first \n",
    "    csv_header = next(csvfile)\n",
    "    \n",
    "    # Read through each row of data after the header\n",
    "    for row in csvreader:\n",
    "        #Calculate total votes\n",
    "        total_votes += 1\n",
    "        \n",
    "        #add unique candidates to a list\n",
    "        if row[2] not in candidate_votes.keys():\n",
    "            candidate_votes[row[2]] = 0\n",
    "        \n",
    "        #add a vote to the candidate\n",
    "        candidate_votes[row[2]] += 1"
   ]
  },
  {
   "cell_type": "code",
   "execution_count": 4,
   "metadata": {},
   "outputs": [],
   "source": [
    "#calculate percentage of votes\n",
    "vote_percent = [\n",
    "    round((x / total_votes)*100,4)\n",
    "    for x in list(candidate_votes.values())\n",
    "         ]\n",
    "\n",
    "#find the winner's index\n",
    "winner_index = vote_percent.index(max(vote_percent))\n",
    "\n",
    "#find the winner\n",
    "candidates = list(candidate_votes.keys())\n",
    "winner = candidates[winner_index]\n"
   ]
  },
  {
   "cell_type": "code",
   "execution_count": 5,
   "metadata": {},
   "outputs": [
    {
     "name": "stdout",
     "output_type": "stream",
     "text": [
      "Election Results\n",
      "-----------------------------\n",
      "Total Votes: 3521001\n",
      "-----------------------------\n",
      "Khan: 63.0% (2218231)\n",
      "Correy: 20.0% (704200)\n",
      "Li: 14.0% (492940)\n",
      "O'Tooley: 3.0% (105630)\n",
      "-----------------------------\n",
      "Winner: Khan\n",
      "-----------------------------\n"
     ]
    }
   ],
   "source": [
    "print(\"Election Results\")\n",
    "print(\"-----------------------------\")\n",
    "print(f\"Total Votes: {total_votes}\")\n",
    "print(\"-----------------------------\")\n",
    "for rows in range(len(candidates)):\n",
    "    print(f\"{candidates[rows]}: {vote_percent[rows]}% ({candidate_votes[candidates[rows]]})\")\n",
    "print(\"-----------------------------\")\n",
    "print(f\"Winner: {winner}\")\n",
    "print(\"-----------------------------\")"
   ]
  },
  {
   "cell_type": "code",
   "execution_count": 6,
   "metadata": {},
   "outputs": [],
   "source": [
    "#print to file\n",
    "report_file = os.path.join(\"Resources\", \"report.txt\")\n",
    "\n",
    "with open(report_file, 'w', newline='') as file:\n",
    "\n",
    "    file.write(\"Election Results\\n\")\n",
    "    file.write(\"-----------------------------\\n\")\n",
    "    file.write(f\"Total Votes: {total_votes}\\n\")\n",
    "    file.write(\"-----------------------------\\n\")\n",
    "               \n",
    "    for rows in range(len(candidates)):\n",
    "        file.write(f\"{candidates[rows]}: {vote_percent[rows]}% ({candidate_votes[candidates[rows]]})\\n\")\n",
    "    \n",
    "    file.write(\"-----------------------------\\n\")\n",
    "    file.write(f\"Winner: {winner}\\n\")\n",
    "    file.write(\"-----------------------------\\n\")\n",
    "    "
   ]
  }
 ],
 "metadata": {
  "kernelspec": {
   "display_name": "Conda [PythonData]",
   "language": "python",
   "name": "pythondata"
  },
  "language_info": {
   "codemirror_mode": {
    "name": "ipython",
    "version": 3
   },
   "file_extension": ".py",
   "mimetype": "text/x-python",
   "name": "python",
   "nbconvert_exporter": "python",
   "pygments_lexer": "ipython3",
   "version": "3.7.3"
  }
 },
 "nbformat": 4,
 "nbformat_minor": 2
}
