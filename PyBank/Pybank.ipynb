{
 "cells": [
  {
   "cell_type": "code",
   "execution_count": 10,
   "metadata": {},
   "outputs": [],
   "source": [
    "import os\n",
    "import csv"
   ]
  },
  {
   "cell_type": "code",
   "execution_count": 11,
   "metadata": {},
   "outputs": [],
   "source": [
    "budget_csv = os.path.join(\"Resources\", \"budget_data.csv\")\n",
    "total_months = 0\n",
    "total_profits = 0\n",
    "last_profit = 0\n",
    "avg_change = 0\n",
    "change = []\n",
    "dates = []"
   ]
  },
  {
   "cell_type": "code",
   "execution_count": 12,
   "metadata": {},
   "outputs": [],
   "source": [
    "with open(budget_csv, newline=\"\") as csvfile:\n",
    "    csvreader = csv.reader(csvfile, delimiter=\",\")\n",
    "    \n",
    "    # Read the header row first (skip this part if there is no header)\n",
    "    csv_header = next(csvfile)\n",
    "    \n",
    "    # Read through each row of data after the header\n",
    "    for row in csvreader:\n",
    "        #create change and dates arrays\n",
    "        change.append(int(row[1]) - last_profit)\n",
    "        dates.append(row[0])\n",
    "        #account for the last item\n",
    "        last_profit = int(row[1])\n",
    "        #calculate total months\n",
    "        total_months += 1\n",
    "        #calculate the total profits\n",
    "        total_profits += int(row[1])\n",
    "        \n",
    "    \n",
    "        \n"
   ]
  },
  {
   "cell_type": "code",
   "execution_count": 13,
   "metadata": {},
   "outputs": [],
   "source": [
    "#remove initial digit of 0\n",
    "change.pop(0)\n",
    "#calculate the average change\n",
    "avg_change = round(sum(change) / (total_months - 1),2)"
   ]
  },
  {
   "cell_type": "code",
   "execution_count": 14,
   "metadata": {},
   "outputs": [],
   "source": [
    "#calculate the max change\n",
    "max_profit = max(change)\n"
   ]
  },
  {
   "cell_type": "code",
   "execution_count": 15,
   "metadata": {},
   "outputs": [],
   "source": [
    "#caulculate the lowest change\n",
    "min_profit = min(change)\n"
   ]
  },
  {
   "cell_type": "code",
   "execution_count": 16,
   "metadata": {},
   "outputs": [],
   "source": [
    "#find the dates for those changes (+1 because of the removed data)\n",
    "max_date = dates[change.index(max_profit)+1]\n",
    "min_date = dates[change.index(min_profit)+1]"
   ]
  },
  {
   "cell_type": "code",
   "execution_count": 17,
   "metadata": {},
   "outputs": [
    {
     "name": "stdout",
     "output_type": "stream",
     "text": [
      "Financial Analysis\n",
      "---------------------------------------\n",
      "Total Months: 86\n",
      "Total: $38382578\n",
      "Average Change: $-2315.12\n",
      "Greatest Increase in Profits: Feb-2012 ($1926159)\n",
      "Greatest Decrease in Profits: Sep-2013 ($-2196167)\n"
     ]
    }
   ],
   "source": [
    "#print to terminal\n",
    "print(\"Financial Analysis\")\n",
    "print(\"---------------------------------------\")\n",
    "print(f\"Total Months: {total_months}\")\n",
    "print(f\"Total: ${total_profits}\")\n",
    "print(f\"Average Change: ${avg_change}\")\n",
    "print(f\"Greatest Increase in Profits: {max_date} (${max_profit})\")\n",
    "print(f\"Greatest Decrease in Profits: {min_date} (${min_profit})\")\n"
   ]
  },
  {
   "cell_type": "code",
   "execution_count": 18,
   "metadata": {},
   "outputs": [],
   "source": [
    "#print to file\n",
    "report_file = os.path.join(\"Resources\", \"report.txt\")\n",
    "\n",
    "with open(report_file, 'w', newline='') as file:\n",
    "\n",
    "    file.write(\"Financial Analysis\\n\")\n",
    "    file.write(\"---------------------------------------\\n\")\n",
    "    file.write(f\"Total Months: {total_months}\\n\")\n",
    "    file.write(f\"Total: ${total_profits}\\n\")\n",
    "    file.write(f\"Average Change: ${avg_change}\\n\")\n",
    "    file.write(f\"Greatest Increase in Profits: {max_date} (${max_profit})\\n\")\n",
    "    file.write(f\"Greatest Decrease in Profits: {min_date} (${min_profit})\\n\")\n"
   ]
  }
 ],
 "metadata": {
  "kernelspec": {
   "display_name": "Conda [PythonData]",
   "language": "python",
   "name": "pythondata"
  },
  "language_info": {
   "codemirror_mode": {
    "name": "ipython",
    "version": 3
   },
   "file_extension": ".py",
   "mimetype": "text/x-python",
   "name": "python",
   "nbconvert_exporter": "python",
   "pygments_lexer": "ipython3",
   "version": "3.7.3"
  }
 },
 "nbformat": 4,
 "nbformat_minor": 2
}
